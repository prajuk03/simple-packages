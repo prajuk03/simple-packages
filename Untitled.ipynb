{
 "cells": [
  {
   "cell_type": "code",
   "execution_count": 1,
   "id": "62a76667",
   "metadata": {},
   "outputs": [],
   "source": [
    "from simple_package import a, b"
   ]
  },
  {
   "cell_type": "code",
   "execution_count": 3,
   "id": "e91740e3",
   "metadata": {},
   "outputs": [
    {
     "name": "stdout",
     "output_type": "stream",
     "text": [
      "Hello, function 'bar' from module 'a' calling\n"
     ]
    }
   ],
   "source": [
    "a.bar()"
   ]
  },
  {
   "cell_type": "code",
   "execution_count": 4,
   "id": "d7ac3c4f",
   "metadata": {},
   "outputs": [
    {
     "name": "stdout",
     "output_type": "stream",
     "text": [
      "Hello, function 'foo' from module 'b' calling\n"
     ]
    }
   ],
   "source": [
    "b.foo()"
   ]
  },
  {
   "cell_type": "code",
   "execution_count": 5,
   "id": "8e62dfed",
   "metadata": {},
   "outputs": [
    {
     "name": "stdout",
     "output_type": "stream",
     "text": [
      "Hello, function 'bar' from module 'a' calling\n",
      "Hello, function 'foo' from module 'b' calling\n"
     ]
    }
   ],
   "source": [
    "import simple_package\n",
    "simple_package.a.bar()\n",
    "simple_package.b.foo()"
   ]
  },
  {
   "cell_type": "code",
   "execution_count": 6,
   "id": "dd982539",
   "metadata": {},
   "outputs": [
    {
     "data": {
      "text/plain": [
       "200"
      ]
     },
     "execution_count": 6,
     "metadata": {},
     "output_type": "execute_result"
    }
   ],
   "source": [
    "import requests\n",
    "r = requests.get('https://api.spotify.com/')\n",
    "r.status_code"
   ]
  },
  {
   "cell_type": "code",
   "execution_count": null,
   "id": "90083c27",
   "metadata": {},
   "outputs": [],
   "source": []
  }
 ],
 "metadata": {
  "kernelspec": {
   "display_name": "Python 3 (ipykernel)",
   "language": "python",
   "name": "python3"
  },
  "language_info": {
   "codemirror_mode": {
    "name": "ipython",
    "version": 3
   },
   "file_extension": ".py",
   "mimetype": "text/x-python",
   "name": "python",
   "nbconvert_exporter": "python",
   "pygments_lexer": "ipython3",
   "version": "3.9.12"
  }
 },
 "nbformat": 4,
 "nbformat_minor": 5
}
